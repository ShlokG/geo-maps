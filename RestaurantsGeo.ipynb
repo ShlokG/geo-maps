{
 "cells": [
  {
   "cell_type": "code",
   "execution_count": 1,
   "metadata": {
    "collapsed": true
   },
   "outputs": [],
   "source": [
    "import googlemaps\n",
    "from datetime import datetime"
   ]
  },
  {
   "cell_type": "code",
   "execution_count": 2,
   "metadata": {
    "collapsed": true
   },
   "outputs": [],
   "source": [
    "import json\n",
    "import requests\n",
    "from urllib.request import urlopen\n",
    "import csv\n",
    "import time\n",
    "from urllib.parse import urlencode"
   ]
  },
  {
   "cell_type": "code",
   "execution_count": 20,
   "metadata": {
    "collapsed": true
   },
   "outputs": [],
   "source": [
    "#Grabbing and parsing the JSON data\n",
    "def GoogPlac(city, business, pricemin,pricemax,nexter,keys):\n",
    "  #making the url\n",
    "    if (nexter != 'a'):\n",
    "        MyUrl = ('https://maps.googleapis.com/maps/api/place/textsearch/json'\n",
    "           '?pagetoken=%s'\n",
    "           '&key=%s') % (nexter, keys)\n",
    "    else:\n",
    "        MyUrl = ('https://maps.googleapis.com/maps/api/place/textsearch/json'\n",
    "                    '?query=%s'\n",
    "                     '&type=%s'\n",
    "                     '&minprice=%s'\n",
    "                     '&maxprice=%s'\n",
    "                     '&key=%s') % (city, business, pricemin, pricemax, keys)\n",
    "\n",
    "  #grabbing the JSON result\n",
    "    response = urlopen(MyUrl)\n",
    "    jsonRaw = response.read()\n",
    "    jsonData = json.loads(jsonRaw)\n",
    "    return jsonData"
   ]
  },
  {
   "cell_type": "code",
   "execution_count": 21,
   "metadata": {
    "collapsed": true
   },
   "outputs": [],
   "source": [
    "place = 'New York'\n",
    "business = 'restaurant'\n",
    "key = 'Insert Key Here'\n",
    "\n",
    "data_file = open('restaurants2.csv', 'w')\n",
    "csvwriter = csv.writer(data_file)\n",
    "full_data = GoogPlac(place,business,0,4,'a',key)\n",
    "sub_result = full_data['results']\n",
    "count = 0\n",
    "\n",
    "\n",
    "csvwriter.writerow(['Name','Latitude','Longitude'])\n",
    "\n",
    "while(full_data['status'] == 'OK' and count < 3):\n",
    "    try:\n",
    "        for i in range(0,len(sub_result)):\n",
    "            csvwriter.writerow([sub_result[i]['name'], sub_result[i]['geometry']['location']['lat'], \n",
    "                       sub_result[i]['geometry']['location']['lng']])\n",
    "        time.sleep(5)\n",
    "        count += 1\n",
    "        full_data = GoogPlac(place,business,0,4,full_data['next_page_token'],key)\n",
    "        sub_result = full_data['results']\n",
    "    except KeyError:\n",
    "        break\n",
    "    \n",
    "\n",
    "\n",
    "if (full_data['status'] == 'OK' and count < 3):\n",
    "        GoogPlac(place,business,0,4,'a',key)\n",
    "\n",
    "    \n",
    "data_file.close()"
   ]
  }
 ],
 "metadata": {
  "kernelspec": {
   "display_name": "Python 3",
   "language": "python",
   "name": "python3"
  },
  "language_info": {
   "codemirror_mode": {
    "name": "ipython",
    "version": 3
   },
   "file_extension": ".py",
   "mimetype": "text/x-python",
   "name": "python",
   "nbconvert_exporter": "python",
   "pygments_lexer": "ipython3",
   "version": "3.6.3"
  }
 },
 "nbformat": 4,
 "nbformat_minor": 2
}
