{
 "cells": [
  {
   "cell_type": "code",
   "execution_count": 1,
   "metadata": {
    "collapsed": true
   },
   "outputs": [],
   "source": [
    "# Importing the required modules\n",
    "\n",
    "import googlemaps\n",
    "from datetime import datetime\n",
    "\n",
    "import json\n",
    "import requests\n",
    "from urllib.request import urlopen\n",
    "import csv\n",
    "import time\n",
    "from urllib.parse import urlencode"
   ]
  },
  {
   "cell_type": "code",
   "execution_count": 2,
   "metadata": {
    "collapsed": true
   },
   "outputs": [],
   "source": [
    "# Function that returns the JSON script listing up to 20 businesses\n",
    "# and their information\n",
    "\n",
    "def MapBus(city, business, pricemin,pricemax,nexter,keys):\n",
    "  #making the url\n",
    "    if (nexter != ''):\n",
    "        TheURL = ('https://maps.googleapis.com/maps/api/place/textsearch/json'\n",
    "           '?pagetoken=%s'\n",
    "           '&key=%s') % (nexter, keys)\n",
    "    else:\n",
    "        TheURL = ('https://maps.googleapis.com/maps/api/place/textsearch/json'\n",
    "                    '?query=%s'\n",
    "                     '&type=%s'\n",
    "                     '&minprice=%s'\n",
    "                     '&maxprice=%s'\n",
    "                     '&key=%s') % (city, business, pricemin, pricemax, keys)\n",
    "\n",
    "  # Using the URL to return a JSON value\n",
    "    answer = urlopen(TheURL)\n",
    "    uneditedJSON = answer.read()\n",
    "    FinalJSON = json.loads(uneditedJSON)\n",
    "    return FinalJSON"
   ]
  },
  {
   "cell_type": "code",
   "execution_count": 7,
   "metadata": {
    "collapsed": true
   },
   "source": [
    "# Fill in each of these values based on what businesses you are looking\n",
    "# for, where, and the csv file you want to export to\n",
    "# Note the key value, which is required and can be obtained by\n",
    "# using the Google Maps API.\n",
    "# The key should have the Google Maps Places API downloaded\n",
    "place = input('What place do you want information for?')\n",
    "business = input('What kind of business do you want information for?')\n",
    "key = 'Insert your Key Here'\n",
    "data_file = open('Your_CSV_Here.csv', 'w')\n",
    "\n",
    "# Finds original 20 businesses adn their information\n",
    "csvwriter = csv.writer(data_file)\n",
    "full_data = MapBus(place,business,0,4,'',key)\n",
    "sub_result = full_data['results']\n",
    "count = 0\n",
    "\n",
    "# Creates header\n",
    "csvwriter.writerow(['Name','Latitude','Longitude'])\n",
    "\n",
    "# Goes through up to 3 pages (limited by Google API) of up to 20 businesses\n",
    "# or the total number of businesses (whichever is less) and writes \n",
    "# the name, latitude, and longitude to the csv file\n",
    "while(full_data['status'] == 'OK' and count < 3):\n",
    "    try:\n",
    "        for i in range(0,len(sub_result)):\n",
    "            csvwriter.writerow([sub_result[i]['name'], sub_result[i]['geometry']['location']['lat'], \n",
    "                       sub_result[i]['geometry']['location']['lng']])\n",
    "        time.sleep(5)\n",
    "        count += 1\n",
    "        full_data = MapBus(place,business,0,4,full_data['next_page_token'],key)\n",
    "        sub_result = full_data['results']\n",
    "    except KeyError:\n",
    "        break\n",
    "    \n",
    "\n",
    "# In case fewer than 3 pages are used, this is the final page \n",
    "# of data added to the csv file\n",
    "if (full_data['status'] == 'OK' and count < 3):\n",
    "        MapBus(place,business,0,4,'',key)\n",
    "\n",
    "    \n",
    "data_file.close()"
   ]
  }
 ],
 "metadata": {
  "kernelspec": {
   "display_name": "Python 3",
   "language": "python",
   "name": "python3"
  },
  "language_info": {
   "codemirror_mode": {
    "name": "ipython",
    "version": 3
   },
   "file_extension": ".py",
   "mimetype": "text/x-python",
   "name": "python",
   "nbconvert_exporter": "python",
   "pygments_lexer": "ipython3",
   "version": "3.6.3"
  }
 },
 "nbformat": 4,
 "nbformat_minor": 2
}
