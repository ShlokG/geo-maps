{
 "cells": [
  {
   "cell_type": "code",
   "execution_count": 1,
   "metadata": {
    "collapsed": true
   },
   "outputs": [],
   "source": [
    "# Importing the required modules\n",
    "\n",
    "import googlemaps\n",
    "from datetime import datetime\n",
    "\n",
    "import json\n",
    "import requests\n",
    "from urllib.request import urlopen\n",
    "import csv\n",
    "import time\n",
    "from urllib.parse import urlencode"
   ]
  },
  {
   "cell_type": "code",
   "execution_count": 2,
   "metadata": {
    "collapsed": true
   },
   "outputs": [],
   "source": [
    "# Function that returns the JSON script listing up to 20 businesses\n",
    "# and their information\n",
    "\n",
    "def MapBus(city, business, pricemin,pricemax,nexter,keys):\n",
    "  # Making the URL\n",
    "    if (nexter != ''):\n",
    "        TheURL = ('https://maps.googleapis.com/maps/api/place/textsearch/json'\n",
    "           '?pagetoken=%s'\n",
    "           '&key=%s') % (nexter, keys)\n",
    "    else:\n",
    "        TheURL = ('https://maps.googleapis.com/maps/api/place/textsearch/json'\n",
    "                    '?query=%s'\n",
    "                     '&type=%s'\n",
    "                     '&minprice=%s'\n",
    "                     '&maxprice=%s'\n",
    "                     '&key=%s') % (city, business, pricemin, pricemax, keys)\n",
    "\n",
    "  # Using the URL to return a JSON value\n",
    "    answer = urlopen(TheURL)\n",
    "    uneditedJSON = answer.read()\n",
    "    FinalJSON = json.loads(uneditedJSON)\n",
    "    return FinalJSON"
   ]
  },
  {
   "cell_type": "code",
   "execution_count": 3,
   "metadata": {},
   "outputs": [
    {
     "name": "stdout",
     "output_type": "stream",
     "text": [
      "What place do you want information for?Edison\n",
      "What kind of business do you want information for?restaurant\n",
      "What is the lowest price level to filter the business by? Select a digit between 0 and 4?0\n",
      "What is the highest price level to filter the business by? Select a digit between 0 and 4?4\n"
     ]
    }
   ],
   "source": [
    "# Fill in each of these values based on what businesses you are looking\n",
    "# for, where, and the csv file you want to export to\n",
    "# Note the key value, which is required and can be obtained by\n",
    "# using the Google Maps API. The project with the key \n",
    "# should have the Google Maps Places API downloaded.\n",
    "\n",
    "# Make sure to fill out the key and data_file variables below.\n",
    "# Otherwise the code will not work!\n",
    "\n",
    "# Enter a place like you would in Google Maps\n",
    "place = input('What place do you want information for?')\n",
    "\n",
    "# Enter a type like 'restaurant', 'hospital', etc.\n",
    "# These correspond to Google Maps API's types\n",
    "business = input('What kind of business do you want information for?')\n",
    "\n",
    "# Enter a digit for the prices\n",
    "minprice1 = int(input(\"What is the lowest price level to filter the business by? Select a digit between 0 and 4?\"))\n",
    "maxprice1 = int(input(\"What is the highest price level to filter the business by? Select a digit between 0 and 4?\"))\n",
    "\n",
    "# Enter your key here in the code (not a prompt)\n",
    "key = 'Your_Key_Here'\n",
    "\n",
    "# Enter your data file path here in the code\n",
    "data_file = open('Your_CSV_Here.csv', 'w')\n",
    "\n",
    "# Changes spaces to pluses for inputting into URL\n",
    "place = place.replace(' ','+')\n",
    "business = business.replace(' ','+')\n",
    "\n",
    "# Finds original 20 businesses and their information\n",
    "csvwriter = csv.writer(data_file)\n",
    "full_data = MapBus(place,business,minprice1,maxprice1,'',key)\n",
    "sub_result = full_data['results']\n",
    "count = 0\n",
    "\n",
    "# Creates header\n",
    "csvwriter.writerow(['Name','Latitude','Longitude'])\n",
    "\n",
    "# Goes through up to 3 pages (limited by Google API) of up to 20 businesses\n",
    "# or the total number of businesses (whichever is less) and writes \n",
    "# the name, latitude, and longitude to the csv file\n",
    "while(full_data['status'] == 'OK' and count < 3):\n",
    "    try:\n",
    "        for i in range(0,len(sub_result)):\n",
    "            csvwriter.writerow([sub_result[i]['name'], sub_result[i]['geometry']['location']['lat'], \n",
    "                       sub_result[i]['geometry']['location']['lng']])\n",
    "        time.sleep(5)\n",
    "        count += 1\n",
    "        full_data = MapBus(place,business,minprice1,maxprice1,full_data['next_page_token'],key)\n",
    "        sub_result = full_data['results']\n",
    "    except KeyError:\n",
    "        break\n",
    "    \n",
    "\n",
    "# In case fewer than 3 pages are used, this is the final page \n",
    "# of data added to the csv file\n",
    "if (full_data['status'] == 'OK' and count < 3):\n",
    "        MapBus(place,business,minprice1,maxprice1,'',key)\n",
    "\n",
    "    \n",
    "data_file.close()"
   ]
  },
  {
   "cell_type": "code",
   "execution_count": null,
   "metadata": {
    "collapsed": true
   },
   "outputs": [],
   "source": []
  }
 ],
 "metadata": {
  "kernelspec": {
   "display_name": "Python 3",
   "language": "python",
   "name": "python3"
  },
  "language_info": {
   "codemirror_mode": {
    "name": "ipython",
    "version": 3
   },
   "file_extension": ".py",
   "mimetype": "text/x-python",
   "name": "python",
   "nbconvert_exporter": "python",
   "pygments_lexer": "ipython3",
   "version": "3.6.3"
  }
 },
 "nbformat": 4,
 "nbformat_minor": 2
}
